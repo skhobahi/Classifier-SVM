{
 "cells": [
  {
   "cell_type": "markdown",
   "metadata": {},
   "source": [
    "#### In this experiment we will implement a Support Vector Machine (SVM) to classify two different classes in our dataset. "
   ]
  },
  {
   "cell_type": "code",
   "execution_count": 2,
   "metadata": {},
   "outputs": [],
   "source": [
    "import numpy as np\n",
    "import matplotlib.pyplot as plt\n",
    "import cvxopt\n",
    "\n",
    "%matplotlib inline"
   ]
  },
  {
   "cell_type": "markdown",
   "metadata": {},
   "source": [
    "#### Generating a random dataset\n",
    "In order to generate our dataset, we simply draw $n=100$ points (2-D vectors) $\\mathbf{x}_1, . . . , \\mathbf{x}_{100}$ independently and uniformly at random on $[0, 1]^2$. These $\\mathbf{x}_i=\\begin{bmatrix}\n",
    "    x_{i1}\\\\\n",
    "    x_{i2}\n",
    "\\end{bmatrix}$ will be our input patterns."
   ]
  },
  {
   "cell_type": "code",
   "execution_count": 3,
   "metadata": {},
   "outputs": [],
   "source": [
    "n=100\n",
    "x1 = np.random.uniform(0,1,(n,1))\n",
    "x2 = np.random.uniform(0,1,(n,1))\n",
    "x = np.concatenate((x1, x2), axis = 1)"
   ]
  },
  {
   "cell_type": "markdown",
   "metadata": {},
   "source": [
    "Moreover, given a sample point $\\mathbf{x}_i$, we assign a class $d_i$ to each point using,\n",
    "\\begin{equation}\n",
    "d_i=\\Big\\{^{1,\\,\\,\\, x_{i2} <\\frac{1}{5}\n",
    "sin(10x_{i1}) + 0.3\\,\\,\\, \\text{or}\\,\\,\\, (x_{i2} − 0.8)^2 + (x_{i1} − 0.5)^2 < 0.152}_{-1,\\,\\,\\, otherwise}\n",
    "\\end{equation}\n",
    "where $d_i$ denote the desired classes corresponding to the input patterns."
   ]
  },
  {
   "cell_type": "code",
   "execution_count": 4,
   "metadata": {},
   "outputs": [],
   "source": [
    "# Generating the desired class corresponding to the input data\n",
    "d = np.zeros((n,1))\n",
    "#np.power(np.power(x[i][1],2)-0.8,2)+np.power(np.power(x[i][0],2)-0.5,2)<np.power(0.15,2))\n",
    "for i in range(n):\n",
    "    if ((0.2*np.sin(10*x[i][0]) + 0.3>x[i][1]) or (np.power((x[i][1]-0.8),2) + np.power((x[i][0]-0.5),2)<np.power(0.15,2))):\n",
    "        d[i] = 1\n",
    "    else:\n",
    "        d[i] = -1       "
   ]
  },
  {
   "cell_type": "markdown",
   "metadata": {},
   "source": [
    "The following figure illustrates the sample points and the corresponding classes (red and blue)."
   ]
  },
  {
   "cell_type": "code",
   "execution_count": 5,
   "metadata": {},
   "outputs": [
    {
     "data": {
      "text/plain": [
       "Text(0.5,1,u'Input data, N = 100')"
      ]
     },
     "execution_count": 5,
     "metadata": {},
     "output_type": "execute_result"
    },
    {
     "data": {
      "image/png": "[encoded data removed]",
      "text/plain": [
       "<matplotlib.figure.Figure at 0x10ddb1690>"
      ]
     },
     "metadata": {},
     "output_type": "display_data"
    }
   ],
   "source": [
    "# Visualization of data points\n",
    "for i in range(n):\n",
    "    if d[i]==1:\n",
    "        plt.scatter(x[i][0], x[i][1], color='red',marker='x',edgecolors='k')\n",
    "    else:\n",
    "        plt.scatter(x[i][0], x[i][1], color='blue',edgecolors='k')\n",
    "plt.title('Input data, N = %s'%(n))\n"
   ]
  },
  {
   "cell_type": "markdown",
   "metadata": {},
   "source": [
    "### Support Vector Machine\n",
    "Now, we want to choose an appropriate Kernel function and design a SVM that separates the classes $C_1 = \\{\\mathbf{x}_i: d_i = 1\\}\\,\\, \\text{and}\\,\\, C_{−1} = \\{\\mathbf{x}_i: d_i = −1\\}$."
   ]
  },
  {
   "cell_type": "markdown",
   "metadata": {},
   "source": [
    "#### Kernel Function:\n",
    "The input data is not linearly separable. So, we need to use a kernel function to take our data into another vector space in which we can separate the two classes linearly.<br> For this purpose, we use the Radial Basis Function (RBF) kernel. We define the RBF kernel $K(x_i,x_j)$ as,<br>\n",
    "$\\mathbf{K(x_i,x_j)=exp(-\\gamma||x_i-x_j||^2)}$, <br>\n",
    "where $\\mathbf{\\gamma = 7}$ in this letter."
   ]
  },
  {
   "cell_type": "code",
   "execution_count": 69,
   "metadata": {},
   "outputs": [],
   "source": [
    "## Calculating the Kernel matrix K:\n",
    "def kernel(x,y):\n",
    "    return np.exp(-7*np.power(np.linalg.norm(x-y),2))\n",
    "#def kernel(x,y):\n",
    "#    return np.power((1+np.dot(x,y.T)),2)\n",
    "#def kernel(x,y):\n",
    "#    return (1+np.dot(x,y))**3\n",
    "K = np.zeros((n,n))\n",
    "#KK = np.zeros((n,n))\n",
    "\n",
    "for i in range(n):\n",
    "    for j in range(n):\n",
    "        #K[i,j] = np.exp(-0.5*np.power(np.linalg.norm(x[i]-x[j]),2))\n",
    "        K[i,j]=kernel(x[i],x[j])"
   ]
  },
  {
   "cell_type": "markdown",
   "metadata": {},
   "source": [
    "##### Problem Formulaton:\n",
    "In SVM we seek to solve the following optimization problem:<br>\n",
    "\\begin{equation*}\n",
    "\\begin{aligned}\n",
    "& \\underset{w}{\\text{minimize}}\n",
    "& & \\frac{1}{2}w^Tw \\\\\n",
    "& \\text{subject to}\n",
    "& & y_i(w^Tx_i + b) \\geq 1, \\; i = 1, \\ldots, n.\n",
    "\\end{aligned}\n",
    "\\end{equation*}<br>\n",
    "Now, we re-write the above optimization problem using the Lagrange multipliers $\\alpha$,<br>\n",
    "\\begin{equation}\n",
    "\\begin{aligned}\n",
    "& \\underset{\\alpha}{\\text{maximize}}\n",
    "& & \\sum_{i=1}^{N}\\alpha_i - \\frac{1}{2}\\sum_{i=1}^{n}\\sum\\limits_{j=1}^{n}y_iy_j\\alpha_i\\alpha_jx_i^Tx_j \\\\\n",
    "& \\text{subject to}\n",
    "& & \\alpha_i \\geq 0, \\; i = 1, \\ldots, n.\\text{ And, }\n",
    "\\sum_{i=1}^{n}\\alpha_iy_i = 0\n",
    "\\end{aligned}\n",
    "\\end{equation}<br>\n",
    "This is a cone quadratic program which has the general form of,<br>\n",
    "\\begin{equation*}\n",
    "\\begin{aligned}\n",
    "& \\underset{x}{\\text{minimize}}\n",
    "& & (1/2)x^TPx + cTx \\\\\n",
    "& \\text{subject to}\n",
    "& & Gx\\leq h\\text{, }\n",
    "Ax=b\n",
    "\\end{aligned}\n",
    "\\end{equation*}<br>\n",
    "Now we rewrite the SVM optimization problem into the general form of the cone quadratic programming described above. That is,<br>\n",
    "\\begin{equation*}\n",
    "\\begin{aligned}\n",
    "& \\underset{x}{\\text{minimize}}\n",
    "& & (1/2)\\alpha^TP\\alpha + (-\\mathbb{1}^T\\alpha) \\\\\n",
    "& \\text{subject to}\n",
    "& & G\\alpha\\leq \\mathbb{0}\\text{, }\n",
    "y^T\\alpha=0\n",
    "\\end{aligned}\n",
    "\\end{equation*}<br>\n",
    "where $g = diag\\{-1,-1, \\dots,-1\\}$, and $[P]_{ij}=y_iy_jK(x_i,x_j)$. <br><br>\n",
    "Next, we solve this cone quadratic program using the *CVXOPT* library."
   ]
  },
  {
   "cell_type": "code",
   "execution_count": 70,
   "metadata": {
    "scrolled": false
   },
   "outputs": [
    {
     "name": "stdout",
     "output_type": "stream",
     "text": [
      "     pcost       dcost       gap    pres   dres\n",
      " 0: -3.2618e+01 -9.9678e+01  3e+02  1e+01  3e+00\n",
      " 1: -1.0895e+02 -2.0597e+02  2e+02  5e+00  1e+00\n",
      " 2: -2.3571e+02 -3.4926e+02  2e+02  4e+00  1e+00\n",
      " 3: -4.5931e+02 -5.8953e+02  2e+02  4e+00  1e+00\n",
      " 4: -1.6254e+03 -1.8292e+03  3e+02  4e+00  1e+00\n",
      " 5: -3.3705e+03 -3.7782e+03  5e+02  4e+00  1e+00\n",
      " 6: -6.6375e+03 -7.7203e+03  1e+03  4e+00  9e-01\n",
      " 7: -1.2480e+04 -1.5460e+04  3e+03  3e+00  8e-01\n",
      " 8: -1.7615e+04 -2.1151e+04  4e+03  1e+00  3e-01\n",
      " 9: -1.8557e+04 -1.9173e+04  6e+02  2e-01  4e-02\n",
      "10: -1.8578e+04 -1.8586e+04  8e+00  2e-03  5e-04\n",
      "11: -1.8578e+04 -1.8578e+04  8e-02  2e-05  5e-06\n",
      "12: -1.8578e+04 -1.8578e+04  8e-04  2e-07  5e-08\n",
      "13: -1.8578e+04 -1.8578e+04  8e-06  2e-09  5e-10\n",
      "Optimal solution found.\n",
      "\n",
      "---------\n",
      "Total Number of Support Vectors: 15 \n",
      "---------\n"
     ]
    }
   ],
   "source": [
    "P = cvxopt.matrix(np.outer(d, d) * K)\n",
    "#P = cvxopt.matrix(K)\n",
    "c = cvxopt.matrix(-np.ones(n))\n",
    "G = cvxopt.matrix(-np.eye(n))\n",
    "h = cvxopt.matrix(np.zeros(n))\n",
    "A = cvxopt.matrix(d, (1,n))\n",
    "b = cvxopt.matrix(0.0)\n",
    "cvxopt.solvers.options['show_progress'] = True\n",
    "solution = cvxopt.solvers.qp(P, c, G, h, A, b)\n",
    "a = np.ravel(solution['x']) #Extracting the alphas from the solutions\n",
    "a_eff = a > 1e-4 #Choosing the non-zero values of a\n",
    "a_eff_indices = np.arange(n)[a_eff]  #Extracting the indices of non-zero elements in alpha. \n",
    "sv_a = a[a_eff_indices]\n",
    "sv_x = x[a_eff_indices]\n",
    "sv_d = d[a_eff_indices]\n",
    "print(\"\\n---------\\nTotal Number of Support Vectors: %d \\n---------\" %(len(sv_a)))\n",
    "#sv_d"
   ]
  },
  {
   "cell_type": "markdown",
   "metadata": {},
   "source": [
    "##### Visualizing Support Vectors"
   ]
  },
  {
   "cell_type": "code",
   "execution_count": 71,
   "metadata": {},
   "outputs": [
    {
     "data": {
      "text/plain": [
       "Text(0.5,1,u'Support Vectors')"
      ]
     },
     "execution_count": 71,
     "metadata": {},
     "output_type": "execute_result"
    },
    {
     "data": {
      "image/png": "[encoded data removed]",
      "text/plain": [
       "<matplotlib.figure.Figure at 0x1133e3890>"
      ]
     },
     "metadata": {},
     "output_type": "display_data"
    }
   ],
   "source": [
    "for i in range(len(a_eff_indices)):\n",
    "    if sv_d[i]==1:\n",
    "        plt.scatter(sv_x[i][0], sv_x[i][1], color = 'red',marker='x', edgecolors='k')\n",
    "        plt.scatter(sv_x[i][0], sv_x[i][1], edgecolors='k',facecolors='none', s=150)\n",
    "    else:\n",
    "        plt.scatter(sv_x[i][0], sv_x[i][1], color = 'blue', edgecolors='k')\n",
    "        plt.scatter(sv_x[i][0], sv_x[i][1], edgecolors='k',facecolors='none', s=150)\n",
    "plt.title('Support Vectors')"
   ]
  },
  {
   "cell_type": "markdown",
   "metadata": {},
   "source": [
    "Now, we find the bias value:"
   ]
  },
  {
   "cell_type": "code",
   "execution_count": 72,
   "metadata": {},
   "outputs": [
    {
     "name": "stdout",
     "output_type": "stream",
     "text": [
      "b = -8.724629\n"
     ]
    }
   ],
   "source": [
    "b=np.zeros((len(a_eff_indices),1))\n",
    "for j in range(len(a_eff_indices)):\n",
    "    for i in range(len(a_eff_indices)):\n",
    "        b[j]-=sv_a[i]*sv_d[i]*K[j,a_eff_indices[i]]\n",
    "b = np.sum(b)/len(a_eff_indices)\n",
    "print (\"b = %f\" %(b))"
   ]
  },
  {
   "cell_type": "code",
   "execution_count": 73,
   "metadata": {},
   "outputs": [],
   "source": [
    "def predict(unknown,a,b,x,d,k): # The discriminator function\n",
    "    g=0\n",
    "    for i in range(len(x)):\n",
    "        g+= a[i] * d[i] * k(unknown,x[i])\n",
    "    return np.sign(g+b)"
   ]
  },
  {
   "cell_type": "code",
   "execution_count": 74,
   "metadata": {},
   "outputs": [
    {
     "name": "stdout",
     "output_type": "stream",
     "text": [
      "Total number of correctly classified inputs: 72 out of 100 \n"
     ]
    }
   ],
   "source": [
    "#x_grid = np.linspace(0,1,100)\n",
    "#for i in range(len(x_grid)):\n",
    "#    for j in range(len(x_grid)):\n",
    "#        if predict(np.array([x_grid[i],x_grid[j]]),sv_a,b,sv_x,sv_d,kernel) > 0:\n",
    "#            plt.scatter(x_grid[i], x_grid[j], color = 'black')\n",
    "#xlist = np.linspace(0.0, 1.0, 100)\n",
    "#ylist = np.linspace(0.0, 1.0, 100)\n",
    "#X,Y = np.meshgrid(xlist, ylist)\n",
    "#vfunc = np.vectorize(predict)\n",
    "#Z = vfunc()\n",
    "correct=0\n",
    "for i in range(n):\n",
    "    if predict(x[i],sv_a,b,sv_x,sv_d,kernel) == d[i]:\n",
    "        correct+=1\n",
    "print (\"Total number of correctly classified inputs: %d out of %d \" %(correct,n))"
   ]
  },
  {
   "cell_type": "markdown",
   "metadata": {},
   "source": [
    "#### Visualizing The Hypothesis\n",
    "Recall that the result of the SVM will be a discriminant function $g(\\mathbf{x}) = \\sum^{\\mathcal{I}_s}_{i=1} \\alpha_id_iK(x_i\n",
    ", x) +\\theta,$\n",
    "where $\\alpha_i$ are some positive constants, $\\mathcal{I}_s$ is the set of the indices of support vectors, and $\\theta$ is the optimal bias.\n",
    "Now we provide a rough sketch of the following decision boundaries,<br>\n",
    "$\\mathcal{H}\\triangleq\\{\\mathbf{x} : g(\\mathbf{x}) = 0\\}$<br>\n",
    "$\\mathcal{H}^{+}\\triangleq\\{\\mathbf{x} : g(\\mathbf{x}) = 1\\}$<br>\n",
    "$\\mathcal{H}^{-}\\triangleq\\{\\mathbf{x} : g(\\mathbf{x}) = -1\\}$"
   ]
  },
  {
   "cell_type": "code",
   "execution_count": 75,
   "metadata": {},
   "outputs": [],
   "source": [
    "def predict_plot(unknown,a,b,x,d,k): # The discriminator function without labeling the output (I just removed np.sign)\n",
    "    g=0\n",
    "    for i in range(len(x)):\n",
    "        g+= a[i] * d[i] * k(unknown,x[i])\n",
    "    return g+b"
   ]
  },
  {
   "cell_type": "code",
   "execution_count": 60,
   "metadata": {},
   "outputs": [],
   "source": [
    "#xlist = np.linspace(0.0, 1.0, 100)\n",
    "#ylist = np.linspace(0.0, 1.0, 100)\n",
    "#X,Y = np.meshgrid(xlist, ylist)\n",
    "#vfunc = np.vectorize(predict)\n",
    "#Z = vfunc()\n",
    "#vfunc(np.array([x_list,y_list]),sv_a,b,sv_x,sv_d,kernel)"
   ]
  },
  {
   "cell_type": "code",
   "execution_count": 61,
   "metadata": {},
   "outputs": [
    {
     "data": {
      "image/png": "[encoded data removed]",
      "text/plain": [
       "<matplotlib.figure.Figure at 0x1104eab50>"
      ]
     },
     "metadata": {},
     "output_type": "display_data"
    }
   ],
   "source": [
    "epsilon = 1e-2\n",
    "x_grid = np.linspace(0,1,500)\n",
    "plt.figure(figsize=(10,10))\n",
    "\n",
    "for i in range(len(x_grid)):\n",
    "    for j in range(len(x_grid)):\n",
    "        temp=predict_plot(np.array([x_grid[i],x_grid[j]]),sv_a,b,sv_x,sv_d,kernel)\n",
    "        if np.abs(temp) < epsilon:\n",
    "            plt.scatter(x_grid[i], x_grid[j], color = 'black',s=0.7)\n",
    "        elif(np.abs(temp-1)<epsilon):\n",
    "            plt.scatter(x_grid[i], x_grid[j], color = 'pink',s=0.7)\n",
    "        elif(np.abs(temp+1)<epsilon):\n",
    "            plt.scatter(x_grid[i], x_grid[j], color = 'purple',s=0.7)\n",
    "for i in range(n):\n",
    "    if d[i]==1:\n",
    "        plt.scatter(x[i][0], x[i][1], color='red',marker='x',edgecolors='k')\n",
    "    else:\n",
    "        plt.scatter(x[i][0], x[i][1], color='blue',edgecolors='k')\n",
    "for i in range(len(a_eff_indices)):\n",
    "    if sv_d[i]==1:\n",
    "        plt.scatter(sv_x[i][0], sv_x[i][1], color = 'red',marker='x', edgecolors='k')\n",
    "        plt.scatter(sv_x[i][0], sv_x[i][1], edgecolors='k',facecolors='none', s=150)\n",
    "    else:\n",
    "        plt.scatter(sv_x[i][0], sv_x[i][1], color = 'blue', edgecolors='k')\n",
    "        plt.scatter(sv_x[i][0], sv_x[i][1], edgecolors='k',facecolors='none', s=150)"
   ]
  },
  {
   "cell_type": "code",
   "execution_count": null,
   "metadata": {},
   "outputs": [],
   "source": []
  }
 ],
 "metadata": {
  "kernelspec": {
   "display_name": "Python 2",
   "language": "python",
   "name": "python2"
  },
  "language_info": {
   "codemirror_mode": {
    "name": "ipython",
    "version": 2
   },
   "file_extension": ".py",
   "mimetype": "text/x-python",
   "name": "python",
   "nbconvert_exporter": "python",
   "pygments_lexer": "ipython2",
   "version": "2.7.11"
  }
 },
 "nbformat": 4,
 "nbformat_minor": 1
}
